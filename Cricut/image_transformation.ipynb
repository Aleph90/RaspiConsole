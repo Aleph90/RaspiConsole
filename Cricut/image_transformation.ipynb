{
 "cells": [
  {
   "cell_type": "markdown",
   "metadata": {},
   "source": [
    "# Transformation given the destination of three points\n",
    "\n",
    "I have a collection of pictures with graph paper on the background. The goal is to transform each image so the background grid is at scale by a sequence of rotations, rescalings along the two axes, and transformations.  \n",
    "To do this I record three points $O$, $A$, and $B$ on the grid, with $A$ 1cm to the right of $O$ and $B$ 1cm below it and look for a transformation $T$ such that\n",
    "$$ T (A-O) = \\operatorname{e}_{1} \\, , \\\\ T (B-O) = \\operatorname{e}_{2} \\, . $$\n",
    "By polar decomposition, $T$ can be expressed as a product $UP$, where $U$ is a rotation and $P$ is symmetric, which in turn means by the spectral theorem that $P = R \\Delta R^{*}$ for some rotation $R$ and diagonal matrix $\\Delta$. Overall, we have\n",
    "$$ T = U R \\Delta R^{*} $$\n",
    "and up to adjusting by a translation this gives the transformation we want.  \n",
    "Now, the matrix $M$ obtained by juxtaposing $A-O$ and $B-O$ (as column vectors) sends the basis vectors to $A-O$ and $B-O$, respectively, so it is the *inverse* of the one representing $T$, therefore\n",
    "$$ M^{*} M = \\bigl(R \\Delta^{-1} R^{*} U^{*}\\bigr)^{*} R \\Delta^{-1} R^{*} U^{*} = U R \\Delta^{-2} R^{*} U^{*} \\, . $$\n",
    "This promptly gives us the eivenvalues of $\\Delta$, and therefore $\\Delta$ itself, by factorising the characteristic polynomial of $M^{*} M$.  \n",
    "Moreover, if $\\lambda$ is either one of these eigenvalues, then $M^{*} M - \\lambda^{2} \\operatorname{I}$ is a matrix of rank $1$ whose kernel and column space are spanned by the $\\lambda$-eigenvector of $M^{*} M$ and its orthogonal, respectively. Since the eigenvectors of $M^{*} M$ relative to distinct eigenvalues are orthogonal, this means that the first column of $M^{*}M$ is the other eigenvector.  \n",
    "Notice now that $R^{*} U^{*}$ is a rotation that takes the $\\lambda$-eigenvector of $M^{*} M$ to that of $\\Delta^{-2}$, and similarly for the orthogonal. Therefore, the angle by which $UR$ rotates is the angle from $\\operatorname{e}_{2}$ to the first column of $M^{*} M - \\lambda \\operatorname{I}$. This gives us $UR$.  \n",
    "Finally, since $M = R \\Delta^{-1} R^{*} U^{*}$ and $M \\operatorname{e}_{2} = B-O$, we can conclude that $R$ is the rotation matrix that transforms $\\Delta^{-1} R^{*} U^{*} \\operatorname{e}_{2}$ into $B-O$. On the other hand, since $UR$ transforms $\\operatorname{e}_{2}$ into the first column of $M^{*} M$, the image $R^{*} U^{*} \\operatorname{e}_{2}$ under the inverse transformation will be the same but reflected around the $y$-axis. Finding the angle is then a matter of taking vector product of this object with $B-O$."
   ]
  },
  {
   "cell_type": "code",
   "execution_count": 22,
   "metadata": {},
   "outputs": [],
   "source": [
    "from math import sqrt\n",
    "\n",
    "class Matrix:\n",
    "    def __init__(self, entries: list[float]=[0, 0, 0, 0]):\n",
    "        self.entries = [entry for entry in entries]\n",
    "    \n",
    "    def __repr__(self) -> str:\n",
    "        return f'Matrix({self.entries})'\n",
    "    \n",
    "    def __str__(self) -> str:\n",
    "        return f'[{self.entries[:2]},\\n {self.entries[2:]}]'\n",
    "    \n",
    "    def __getitem__(self, idx: tuple[int]) -> float:\n",
    "        return self.entries[2*idx[0] + idx[1] - 3]\n",
    "    \n",
    "    def __setitem__(self, idx: tuple[int], val: float) -> None:\n",
    "        self.entries[2*idx[0] + idx[1] - 3] = val\n",
    "    \n",
    "    def transposed(self) -> 'Matrix':\n",
    "        return Matrix([self.entries[0], self.entries[2], self.entries[1], self.entries[3]])\n",
    "    \n",
    "    def __mul__(self, other: 'Matrix') -> 'Matrix':\n",
    "        product = Matrix()\n",
    "        for i in [1, 2]:\n",
    "            for j in [1, 2]:\n",
    "                product[(i,j)] = sum([self[(i,k)]*other[(k,j)] for k in [1, 2]])\n",
    "        return product\n",
    "\n",
    "    def __rmul__(self, other: float) -> 'Matrix':\n",
    "        return Matrix([other*entry for entry in self.entries])\n",
    "    \n",
    "    def __add__(self, other: 'Matrix') -> 'Matrix':\n",
    "        new_matrix = Matrix()\n",
    "        for i in [1, 2]:\n",
    "            for j in [1, 2]:\n",
    "                new_matrix[(i, j)] = self[(i, j)] + other[(i, j)]\n",
    "        return new_matrix\n",
    "    \n",
    "    def __neg__(self) -> 'Matrix':\n",
    "        return Matrix([-x for x in self.entries])\n",
    "    \n",
    "    def __sub__(self, other: 'Matrix') -> 'Matrix':\n",
    "        return self + (-other)\n",
    "    \n",
    "    def trace(self) -> float:\n",
    "        return self[(1,1)] + self[(2,2)]\n",
    "\n",
    "    def det(self) -> float:\n",
    "        return self[(1,1)]*self[(2,2)] - self[(1,2)]*self[(2,1)]\n",
    "    \n",
    "    def eigenvals(self):\n",
    "        Delta = self.trace()**2 - 4*self.det()\n",
    "        if Delta < 0:\n",
    "            raise ValueError('The matrix has no real eigenvalues.')\n",
    "        return (self.trace()-sqrt(Delta))/2, (self.trace()+sqrt(Delta))/2\n",
    "    \n",
    "IdMatrix = Matrix([1, 0, 0, 1])\n",
    "\n",
    "def diag(eigenvals: tuple[float]):\n",
    "    return Matrix([eigenvals[0], 0, 0, eigenvals[1]])"
   ]
  },
  {
   "cell_type": "code",
   "execution_count": 40,
   "metadata": {},
   "outputs": [],
   "source": [
    "from math import asin as arcsin\n",
    "from math import pi\n",
    "\n",
    "def figure_it_out(O: list[float], A: list[float], B: list[float]):\n",
    "    M = Matrix([A[0] - O[0], B[0] - O[0], A[1] - O[1], B[1] - O[1]])\n",
    "    \n",
    "    MtM = M.transposed()*M\n",
    "    eigenvals = MtM.eigenvals()\n",
    "    Delta = diag([l**(-.5) for l in eigenvals])\n",
    "\n",
    "    eigenvects = MtM - eigenvals[0]*IdMatrix\n",
    "    vect = [eigenvects[(1,1)], eigenvects[(2,1)]]\n",
    "    if vect[0] == 0 and vect[1] == 0:\n",
    "        vect = [eigenvects[(1,2)], eigenvects[(2,2)]]\n",
    "    if vect[0] == 0 and vect[1] == 0:\n",
    "        vect = [0, 1]\n",
    "    URsine = -vect[0]/sqrt(vect[0]**2 + vect[1]**2)\n",
    "\n",
    "    N = Matrix([B[0]-O[0], -sqrt(eigenvals[0])*vect[0], B[1]-B[0], sqrt(eigenvals[1]*vect[1])])\n",
    "    Rinvsine = N.det()/sqrt((N.transposed()*N)[(1,1)] * (N.transposed()*N)[(2,2)])\n",
    "\n",
    "    print(f'Angle of rotation of R inverse: {arcsin(Rinvsine)*180/pi}')\n",
    "    print(f'Delta:\\n{Delta}')\n",
    "    print(f'Angle of rotation of UR: {arcsin(URsine)*180/pi}')\n",
    "    "
   ]
  },
  {
   "cell_type": "code",
   "execution_count": 42,
   "metadata": {},
   "outputs": [
    {
     "name": "stdout",
     "output_type": "stream",
     "text": [
      "Angle of rotation of R inverse: 52.08930116405536\n",
      "Delta:\n",
      "[[1.5847117387920282, 0],\n",
      " [0, 0.21034319691947392]]\n",
      "Angle of rotation of UR: -62.91882647713916\n"
     ]
    }
   ],
   "source": [
    "# Test run\n",
    "figure_it_out(O = [-1, -2], A = [2, 1], B = [0, 0])"
   ]
  },
  {
   "cell_type": "code",
   "execution_count": 43,
   "metadata": {},
   "outputs": [
    {
     "name": "stdout",
     "output_type": "stream",
     "text": [
      "Angle of rotation of R inverse: 73.25215640124974\n",
      "Delta:\n",
      "[[0.07078968530507122, 0],\n",
      " [0, 0.06951965321830732]]\n",
      "Angle of rotation of UR: -62.979850753257324\n"
     ]
    }
   ],
   "source": [
    "# Cross thingy\n",
    "figure_it_out(O = [34.85, 25.26], A = [49.18, 25.47], B = [34.85, 39.44])"
   ]
  },
  {
   "cell_type": "code",
   "execution_count": 37,
   "metadata": {},
   "outputs": [
    {
     "name": "stdout",
     "output_type": "stream",
     "text": [
      "[[18.000000000000004, 8.999999999999996],\n",
      " [8.999999999999996, 4.999999999999995]]\n"
     ]
    }
   ],
   "source": [
    "from math import sin, cos\n",
    "r = -52.08930116405536*pi/180\n",
    "R = Matrix([cos(r), -sin(r), sin(r), cos(r)])\n",
    "ruinv = 62.91882647713916*pi/180\n",
    "RUinv = Matrix([cos(ruinv), -sin(ruinv), sin(ruinv), cos(ruinv)])\n",
    "Deltainv = Matrix([1.5847117387920282**(-1), 0, 0, 0.21034319691947392**(-1)])\n",
    "print(RUinv.transposed()*Deltainv*Deltainv*RUinv)\n"
   ]
  },
  {
   "cell_type": "code",
   "execution_count": null,
   "metadata": {},
   "outputs": [],
   "source": []
  }
 ],
 "metadata": {
  "kernelspec": {
   "display_name": "base",
   "language": "python",
   "name": "python3"
  },
  "language_info": {
   "codemirror_mode": {
    "name": "ipython",
    "version": 3
   },
   "file_extension": ".py",
   "mimetype": "text/x-python",
   "name": "python",
   "nbconvert_exporter": "python",
   "pygments_lexer": "ipython3",
   "version": "3.12.3"
  }
 },
 "nbformat": 4,
 "nbformat_minor": 2
}
